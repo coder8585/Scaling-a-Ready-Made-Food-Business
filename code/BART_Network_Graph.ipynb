{
 "cells": [
  {
   "cell_type": "code",
   "execution_count": 22,
   "id": "2267eb9b",
   "metadata": {},
   "outputs": [],
   "source": [
    "## Import Required Libraries\n",
    "\n",
    "import neo4j\n",
    "import csv\n",
    "import math\n",
    "import numpy as np\n",
    "import pandas as pd\n",
    "import psycopg2\n"
   ]
  },
  {
   "cell_type": "code",
   "execution_count": 23,
   "id": "7643fafc",
   "metadata": {},
   "outputs": [],
   "source": [
    "## Create driver object and session\n",
    "\n",
    "driver = neo4j.GraphDatabase.driver(uri=\"neo4j://neo4j:7687\", auth=(\"neo4j\",\"ucb_mids_w205\"))\n",
    "session = driver.session(database=\"neo4j\")"
   ]
  },
  {
   "cell_type": "code",
   "execution_count": 24,
   "id": "4b60e677",
   "metadata": {},
   "outputs": [],
   "source": [
    "## Function to delete any existing graphs\n",
    "\n",
    "def my_neo4j_wipe_out_database():    \n",
    "    query = \"match (node)-[relationship]->() delete node, relationship\"\n",
    "    session.run(query)\n",
    "    \n",
    "    query = \"match (node) delete node\"\n",
    "    session.run(query)"
   ]
  },
  {
   "cell_type": "code",
   "execution_count": 25,
   "id": "8854461f",
   "metadata": {},
   "outputs": [],
   "source": [
    "## Function to run a query and return the results in a pandas dataframe\n",
    "\n",
    "def my_neo4j_run_query_pandas(query, **kwargs):    \n",
    "    result = session.run(query, **kwargs)\n",
    "    \n",
    "    df = pd.DataFrame([r.values() for r in result], columns=result.keys())\n",
    "    \n",
    "    return df"
   ]
  },
  {
   "cell_type": "code",
   "execution_count": 26,
   "id": "17f62677",
   "metadata": {},
   "outputs": [],
   "source": [
    "## Function to print the number of nodes and relationships    \n",
    "    \n",
    "def my_neo4j_number_nodes_relationships():\n",
    "    query = \"\"\"\n",
    "        match (n) \n",
    "        return n.name as node_name, labels(n) as labels\n",
    "        order by n.name\n",
    "    \"\"\"\n",
    "    \n",
    "    df = my_neo4j_run_query_pandas(query)\n",
    "    \n",
    "    number_nodes = df.shape[0]\n",
    "    \n",
    "    \n",
    "    query = \"\"\"\n",
    "        match (n1)-[r]->(n2) \n",
    "        return n1.name as node_name_1, labels(n1) as node_1_labels, \n",
    "            type(r) as relationship_type, n2.name as node_name_2, labels(n2) as node_2_labels\n",
    "        order by node_name_1, node_name_2\n",
    "    \"\"\"\n",
    "    \n",
    "    df = my_neo4j_run_query_pandas(query)\n",
    "    \n",
    "    number_relationships = df.shape[0]\n",
    "    \n",
    "    print(\"-------------------------\")\n",
    "    print(\"  Nodes:\", number_nodes)\n",
    "    print(\"  Relationships:\", number_relationships)\n",
    "    print(\"-------------------------\")"
   ]
  },
  {
   "cell_type": "code",
   "execution_count": 27,
   "id": "f6072c4b",
   "metadata": {},
   "outputs": [],
   "source": [
    "## Function to create a node with label Station    \n",
    "    \n",
    "def my_neo4j_create_node(station_name):    \n",
    "    query = \"\"\"\n",
    "    \n",
    "    CREATE (:Station {name: $station_name})\n",
    "    \n",
    "    \"\"\"\n",
    "    \n",
    "    session.run(query, station_name=station_name)"
   ]
  },
  {
   "cell_type": "code",
   "execution_count": 28,
   "id": "b5ff605f",
   "metadata": {},
   "outputs": [],
   "source": [
    "## Function to create a relationship one way between two stations with travel time as weight\n",
    "\n",
    "def my_neo4j_create_relationship_one_way(from_station, to_station, weight):    \n",
    "    query = \"\"\"\n",
    "    \n",
    "    MATCH (from:Station), \n",
    "          (to:Station)\n",
    "    WHERE from.name = $from_station and to.name = $to_station\n",
    "    CREATE (from)-[:LINK {weight: $weight}]->(to)\n",
    "    \n",
    "    \"\"\"\n",
    "    \n",
    "    session.run(query, from_station=from_station, to_station=to_station, weight=weight)"
   ]
  },
  {
   "cell_type": "code",
   "execution_count": 29,
   "id": "cd726584",
   "metadata": {},
   "outputs": [],
   "source": [
    "## Function to create relationships two way between two stations with a weight\n",
    "\n",
    "def my_neo4j_create_relationship_two_way(from_station, to_station, weight):    \n",
    "    query = \"\"\"\n",
    "    \n",
    "    MATCH (from:Station), \n",
    "          (to:Station)\n",
    "    WHERE from.name = $from_station and to.name = $to_station\n",
    "    CREATE (from)-[:LINK {weight: $weight}]->(to),\n",
    "           (to)-[:LINK {weight: $weight}]->(from)\n",
    "    \n",
    "    \"\"\"\n",
    "    \n",
    "    session.run(query, from_station=from_station, to_station=to_station, weight=weight)"
   ]
  },
  {
   "cell_type": "code",
   "execution_count": 30,
   "id": "bb699b4a",
   "metadata": {},
   "outputs": [],
   "source": [
    "## Create postgres cursor\n",
    "\n",
    "connection = psycopg2.connect(\n",
    "    user = \"postgres\",\n",
    "    password = \"ucb\",\n",
    "    host = \"postgres\",\n",
    "    port = \"5432\",\n",
    "    database = \"postgres\"\n",
    ")\n",
    "\n",
    "cursor = connection.cursor()"
   ]
  },
  {
   "cell_type": "code",
   "execution_count": 31,
   "id": "7c9068cf",
   "metadata": {},
   "outputs": [],
   "source": [
    "## Wipe out any existing graphs\n",
    "\n",
    "my_neo4j_wipe_out_database()"
   ]
  },
  {
   "cell_type": "code",
   "execution_count": 32,
   "id": "0fd69476",
   "metadata": {},
   "outputs": [
    {
     "name": "stdout",
     "output_type": "stream",
     "text": [
      "-------------------------\n",
      "  Nodes: 0\n",
      "  Relationships: 0\n",
      "-------------------------\n"
     ]
    }
   ],
   "source": [
    "## Verify\n",
    "\n",
    "my_neo4j_number_nodes_relationships()"
   ]
  },
  {
   "cell_type": "code",
   "execution_count": 33,
   "id": "17aa2a11",
   "metadata": {},
   "outputs": [
    {
     "name": "stdout",
     "output_type": "stream",
     "text": [
      "[('12th Street',), ('16th Street Mission',), ('19th Street',), ('24th Street Mission',), ('Antioch',), ('Ashby',), ('Balboa Park',), ('Bay Fair',), ('Berryessa',), ('Castro Valley',), ('Civic Center',), ('Coliseum',), ('Colma',), ('Concord',), ('Daly City',), ('Downtown Berkeley',), ('Dublin',), ('El Cerrito del Norte',), ('El Cerrito Plaza',), ('Embarcadero',), ('Fremont',), ('Fruitvale',), ('Glen Park',), ('Hayward',), ('Lafayette',), ('Lake Merritt',), ('MacArthur',), ('Millbrae',), ('Milpitas',), ('Montgomery Street',), ('North Berkeley',), ('North Concord',), ('OAK',), ('Orinda',), ('Pittsburg',), ('Pittsburg Center',), ('Pleasant Hill',), ('Powell Street',), ('Richmond',), ('Rockridge',), ('San Bruno',), ('San Leandro',), ('SFO',), ('South Hayward',), ('South San Francisco',), ('Union City',), ('Walnut Creek',), ('Warm Springs',), ('West Dublin',), ('West Oakland',)]\n"
     ]
    }
   ],
   "source": [
    "## Create the departure and arrival nodes in the graph. Total 50 stations.\n",
    "\n",
    "connection.rollback()\n",
    "\n",
    "query = \"\"\"\n",
    "\n",
    "select station\n",
    "from stations\n",
    "order by station\n",
    "\n",
    "\"\"\"\n",
    "\n",
    "cursor.execute(query)\n",
    "\n",
    "connection.rollback()\n",
    "\n",
    "rows = cursor.fetchall()\n",
    "\n",
    "print(rows)\n",
    "\n",
    "for row in rows:\n",
    "    \n",
    "    station = row[0]\n",
    "    \n",
    "    my_neo4j_create_node('depart ' + station)\n",
    "    my_neo4j_create_node('arrive ' + station)"
   ]
  },
  {
   "cell_type": "code",
   "execution_count": 34,
   "id": "aedaf8fb",
   "metadata": {},
   "outputs": [
    {
     "name": "stdout",
     "output_type": "stream",
     "text": [
      "-------------------------\n",
      "  Nodes: 100\n",
      "  Relationships: 0\n",
      "-------------------------\n"
     ]
    }
   ],
   "source": [
    "## Verify\n",
    "\n",
    "my_neo4j_number_nodes_relationships()"
   ]
  },
  {
   "cell_type": "code",
   "execution_count": 35,
   "id": "46a4b73f",
   "metadata": {},
   "outputs": [
    {
     "name": "stdout",
     "output_type": "stream",
     "text": [
      "[('12th Street', 'orange'), ('12th Street', 'red'), ('12th Street', 'yellow'), ('16th Street Mission', 'blue'), ('16th Street Mission', 'green'), ('16th Street Mission', 'red'), ('16th Street Mission', 'yellow'), ('19th Street', 'orange'), ('19th Street', 'red'), ('19th Street', 'yellow'), ('24th Street Mission', 'blue'), ('24th Street Mission', 'green'), ('24th Street Mission', 'red'), ('24th Street Mission', 'yellow'), ('Antioch', 'yellow'), ('Ashby', 'orange'), ('Ashby', 'red'), ('Balboa Park', 'blue'), ('Balboa Park', 'green'), ('Balboa Park', 'red'), ('Balboa Park', 'yellow'), ('Bay Fair', 'blue'), ('Bay Fair', 'green'), ('Bay Fair', 'orange'), ('Berryessa', 'green'), ('Berryessa', 'orange'), ('Castro Valley', 'blue'), ('Civic Center', 'blue'), ('Civic Center', 'green'), ('Civic Center', 'red'), ('Civic Center', 'yellow'), ('Coliseum', 'blue'), ('Coliseum', 'gray'), ('Coliseum', 'green'), ('Coliseum', 'orange'), ('Colma', 'red'), ('Colma', 'yellow'), ('Concord', 'yellow'), ('Daly City', 'blue'), ('Daly City', 'green'), ('Daly City', 'red'), ('Daly City', 'yellow'), ('Downtown Berkeley', 'orange'), ('Downtown Berkeley', 'red'), ('Dublin', 'blue'), ('El Cerrito del Norte', 'orange'), ('El Cerrito del Norte', 'red'), ('El Cerrito Plaza', 'orange'), ('El Cerrito Plaza', 'red'), ('Embarcadero', 'blue'), ('Embarcadero', 'green'), ('Embarcadero', 'red'), ('Embarcadero', 'yellow'), ('Fremont', 'green'), ('Fremont', 'orange'), ('Fruitvale', 'blue'), ('Fruitvale', 'green'), ('Fruitvale', 'orange'), ('Glen Park', 'blue'), ('Glen Park', 'green'), ('Glen Park', 'red'), ('Glen Park', 'yellow'), ('Hayward', 'green'), ('Hayward', 'orange'), ('Lafayette', 'yellow'), ('Lake Merritt', 'blue'), ('Lake Merritt', 'green'), ('Lake Merritt', 'orange'), ('MacArthur', 'orange'), ('MacArthur', 'red'), ('MacArthur', 'yellow'), ('Millbrae', 'red'), ('Milpitas', 'green'), ('Milpitas', 'orange'), ('Montgomery Street', 'blue'), ('Montgomery Street', 'green'), ('Montgomery Street', 'red'), ('Montgomery Street', 'yellow'), ('North Berkeley', 'orange'), ('North Berkeley', 'red'), ('North Concord', 'yellow'), ('OAK', 'gray'), ('Orinda', 'yellow'), ('Pittsburg', 'yellow'), ('Pittsburg Center', 'yellow'), ('Pleasant Hill', 'yellow'), ('Powell Street', 'blue'), ('Powell Street', 'green'), ('Powell Street', 'red'), ('Powell Street', 'yellow'), ('Richmond', 'orange'), ('Richmond', 'red'), ('Rockridge', 'yellow'), ('San Bruno', 'red'), ('San Bruno', 'yellow'), ('San Leandro', 'blue'), ('San Leandro', 'green'), ('San Leandro', 'orange'), ('SFO', 'red'), ('SFO', 'yellow'), ('South Hayward', 'green'), ('South Hayward', 'orange'), ('South San Francisco', 'red'), ('South San Francisco', 'yellow'), ('Union City', 'green'), ('Union City', 'orange'), ('Walnut Creek', 'yellow'), ('Warm Springs', 'green'), ('Warm Springs', 'orange'), ('West Dublin', 'blue'), ('West Oakland', 'blue'), ('West Oakland', 'green'), ('West Oakland', 'red'), ('West Oakland', 'yellow')]\n"
     ]
    }
   ],
   "source": [
    "## Create line nodes, create relationships between the line nodes and the departure and arrival nodes with weight 0\n",
    "\n",
    "connection.rollback()\n",
    "\n",
    "query = \"\"\"\n",
    "\n",
    "SELECT station, line FROM lines ORDER BY station, line;\n",
    "\n",
    "\"\"\"\n",
    "cursor.execute(query)\n",
    "\n",
    "connection.rollback()\n",
    "\n",
    "rows = cursor.fetchall()\n",
    "\n",
    "print(rows)\n",
    "\n",
    "for row in rows:\n",
    "    line_station_name = row[1]+' '+row[0]\n",
    "    depart_station_name = 'depart ' + row[0]\n",
    "    arrive_station_name = 'arrive ' + row[0]\n",
    "    my_neo4j_create_node(line_station_name)\n",
    "    my_neo4j_create_relationship_one_way(depart_station_name,line_station_name,0)\n",
    "    my_neo4j_create_relationship_one_way(line_station_name,arrive_station_name,0)"
   ]
  },
  {
   "cell_type": "code",
   "execution_count": 36,
   "id": "02317fd7",
   "metadata": {},
   "outputs": [
    {
     "name": "stdout",
     "output_type": "stream",
     "text": [
      "-------------------------\n",
      "  Nodes: 214\n",
      "  Relationships: 228\n",
      "-------------------------\n"
     ]
    }
   ],
   "source": [
    "## Verify\n",
    "\n",
    "my_neo4j_number_nodes_relationships()"
   ]
  },
  {
   "cell_type": "code",
   "execution_count": 37,
   "id": "9d3da9f2",
   "metadata": {},
   "outputs": [],
   "source": [
    "## Create a relationship for each possible transfer with the transfer time as the weight\n",
    "\n",
    "connection.rollback()\n",
    "\n",
    "query = \"\"\"\n",
    "\n",
    "select a.station, a.line as from_line, b.line as to_line, s.transfer_time\n",
    "from lines a\n",
    "     join lines b\n",
    "       on a.station = b.station and a.line <> b.line \n",
    "     join stations s\n",
    "       on a.station = s.station\n",
    "order by 1, 2, 3\n",
    "\n",
    "\"\"\"\n",
    "\n",
    "cursor.execute(query)\n",
    "\n",
    "connection.rollback()\n",
    "\n",
    "rows = cursor.fetchall()\n",
    "\n",
    "for row in rows:\n",
    "    from_ln_statn_nm = row[1]+' '+row[0]\n",
    "    to_ln_statn_nm = row[2]+' '+row[0]\n",
    "    my_neo4j_create_relationship_one_way(from_ln_statn_nm, to_ln_statn_nm, int(row[3]))"
   ]
  },
  {
   "cell_type": "code",
   "execution_count": 38,
   "id": "562e0b2c",
   "metadata": {},
   "outputs": [
    {
     "name": "stdout",
     "output_type": "stream",
     "text": [
      "-------------------------\n",
      "  Nodes: 214\n",
      "  Relationships: 436\n",
      "-------------------------\n"
     ]
    }
   ],
   "source": [
    "## Verify\n",
    "\n",
    "my_neo4j_number_nodes_relationships()"
   ]
  },
  {
   "cell_type": "code",
   "execution_count": 39,
   "id": "16949eee",
   "metadata": {},
   "outputs": [
    {
     "name": "stdout",
     "output_type": "stream",
     "text": [
      "[('blue', '16th Street Mission', '24th Street Mission', Decimal('120')), ('blue', '24th Street Mission', 'Glen Park', Decimal('180')), ('blue', 'Balboa Park', 'Daly City', Decimal('240')), ('blue', 'Bay Fair', 'San Leandro', Decimal('240')), ('blue', 'Castro Valley', 'Bay Fair', Decimal('240')), ('blue', 'Civic Center', '16th Street Mission', Decimal('180')), ('blue', 'Coliseum', 'Fruitvale', Decimal('240')), ('blue', 'Dublin', 'West Dublin', Decimal('180')), ('blue', 'Embarcadero', 'Montgomery Street', Decimal('60')), ('blue', 'Fruitvale', 'Lake Merritt', Decimal('300')), ('blue', 'Glen Park', 'Balboa Park', Decimal('120')), ('blue', 'Lake Merritt', 'West Oakland', Decimal('360')), ('blue', 'Montgomery Street', 'Powell Street', Decimal('120')), ('blue', 'Powell Street', 'Civic Center', Decimal('60')), ('blue', 'San Leandro', 'Coliseum', Decimal('240')), ('blue', 'West Dublin', 'Castro Valley', Decimal('600')), ('blue', 'West Oakland', 'Embarcadero', Decimal('420')), ('gray', 'OAK', 'Coliseum', Decimal('480')), ('green', '16th Street Mission', '24th Street Mission', Decimal('120')), ('green', '24th Street Mission', 'Glen Park', Decimal('180')), ('green', 'Balboa Park', 'Daly City', Decimal('240')), ('green', 'Bay Fair', 'San Leandro', Decimal('240')), ('green', 'Berryessa', 'Milpitas', Decimal('300')), ('green', 'Civic Center', '16th Street Mission', Decimal('180')), ('green', 'Coliseum', 'Fruitvale', Decimal('240')), ('green', 'Embarcadero', 'Montgomery Street', Decimal('60')), ('green', 'Fremont', 'Union City', Decimal('300')), ('green', 'Fruitvale', 'Lake Merritt', Decimal('300')), ('green', 'Glen Park', 'Balboa Park', Decimal('120')), ('green', 'Hayward', 'Bay Fair', Decimal('240')), ('green', 'Lake Merritt', 'West Oakland', Decimal('360')), ('green', 'Milpitas', 'Warm Springs', Decimal('540')), ('green', 'Montgomery Street', 'Powell Street', Decimal('120')), ('green', 'Powell Street', 'Civic Center', Decimal('60')), ('green', 'San Leandro', 'Coliseum', Decimal('240')), ('green', 'South Hayward', 'Hayward', Decimal('240')), ('green', 'Union City', 'South Hayward', Decimal('300')), ('green', 'Warm Springs', 'Fremont', Decimal('360')), ('green', 'West Oakland', 'Embarcadero', Decimal('420')), ('orange', '12th Street', 'Lake Merritt', Decimal('180')), ('orange', '19th Street', '12th Street', Decimal('120')), ('orange', 'Ashby', 'MacArthur', Decimal('240')), ('orange', 'Bay Fair', 'Hayward', Decimal('240')), ('orange', 'Coliseum', 'San Leandro', Decimal('240')), ('orange', 'Downtown Berkeley', 'Ashby', Decimal('180')), ('orange', 'El Cerrito del Norte', 'El Cerrito Plaza', Decimal('180')), ('orange', 'El Cerrito Plaza', 'North Berkeley', Decimal('180')), ('orange', 'Fremont', 'Warm Springs', Decimal('360')), ('orange', 'Fruitvale', 'Coliseum', Decimal('240')), ('orange', 'Hayward', 'South Hayward', Decimal('240')), ('orange', 'Lake Merritt', 'Fruitvale', Decimal('300')), ('orange', 'MacArthur', '19th Street', Decimal('180')), ('orange', 'Milpitas', 'Berryessa', Decimal('300')), ('orange', 'North Berkeley', 'Downtown Berkeley', Decimal('120')), ('orange', 'Richmond', 'El Cerrito del Norte', Decimal('300')), ('orange', 'San Leandro', 'Bay Fair', Decimal('240')), ('orange', 'South Hayward', 'Union City', Decimal('300')), ('orange', 'Union City', 'Fremont', Decimal('300')), ('orange', 'Warm Springs', 'Milpitas', Decimal('540')), ('red', '12th Street', 'West Oakland', Decimal('300')), ('red', '16th Street Mission', '24th Street Mission', Decimal('120')), ('red', '19th Street', '12th Street', Decimal('120')), ('red', '24th Street Mission', 'Glen Park', Decimal('180')), ('red', 'Ashby', 'MacArthur', Decimal('240')), ('red', 'Balboa Park', 'Daly City', Decimal('240')), ('red', 'Civic Center', '16th Street Mission', Decimal('180')), ('red', 'Colma', 'South San Francisco', Decimal('180')), ('red', 'Daly City', 'Colma', Decimal('240')), ('red', 'Downtown Berkeley', 'Ashby', Decimal('180')), ('red', 'El Cerrito del Norte', 'El Cerrito Plaza', Decimal('180')), ('red', 'El Cerrito Plaza', 'North Berkeley', Decimal('180')), ('red', 'Embarcadero', 'Montgomery Street', Decimal('60')), ('red', 'Glen Park', 'Balboa Park', Decimal('120')), ('red', 'MacArthur', '19th Street', Decimal('180')), ('red', 'Millbrae', 'SFO', Decimal('300')), ('red', 'Montgomery Street', 'Powell Street', Decimal('120')), ('red', 'North Berkeley', 'Downtown Berkeley', Decimal('120')), ('red', 'Powell Street', 'Civic Center', Decimal('60')), ('red', 'Richmond', 'El Cerrito del Norte', Decimal('300')), ('red', 'San Bruno', 'Millbrae', Decimal('420')), ('red', 'South San Francisco', 'San Bruno', Decimal('240')), ('red', 'West Oakland', 'Embarcadero', Decimal('420')), ('yellow', '12th Street', 'West Oakland', Decimal('300')), ('yellow', '16th Street Mission', '24th Street Mission', Decimal('120')), ('yellow', '19th Street', '12th Street', Decimal('120')), ('yellow', '24th Street Mission', 'Glen Park', Decimal('180')), ('yellow', 'Antioch', 'Pittsburg Center', Decimal('420')), ('yellow', 'Balboa Park', 'Daly City', Decimal('240')), ('yellow', 'Civic Center', '16th Street Mission', Decimal('180')), ('yellow', 'Colma', 'South San Francisco', Decimal('180')), ('yellow', 'Concord', 'Pleasant Hill', Decimal('360')), ('yellow', 'Daly City', 'Colma', Decimal('240')), ('yellow', 'Embarcadero', 'Montgomery Street', Decimal('60')), ('yellow', 'Glen Park', 'Balboa Park', Decimal('120')), ('yellow', 'Lafayette', 'Orinda', Decimal('300')), ('yellow', 'MacArthur', '19th Street', Decimal('180')), ('yellow', 'Montgomery Street', 'Powell Street', Decimal('120')), ('yellow', 'North Concord', 'Concord', Decimal('180')), ('yellow', 'Orinda', 'Rockridge', Decimal('300')), ('yellow', 'Pittsburg', 'North Concord', Decimal('360')), ('yellow', 'Pittsburg Center', 'Pittsburg', Decimal('600')), ('yellow', 'Pleasant Hill', 'Walnut Creek', Decimal('120')), ('yellow', 'Powell Street', 'Civic Center', Decimal('60')), ('yellow', 'Rockridge', 'MacArthur', Decimal('240')), ('yellow', 'San Bruno', 'SFO', Decimal('240')), ('yellow', 'South San Francisco', 'San Bruno', Decimal('240')), ('yellow', 'Walnut Creek', 'Lafayette', Decimal('300')), ('yellow', 'West Oakland', 'Embarcadero', Decimal('420'))]\n"
     ]
    }
   ],
   "source": [
    "## Create a relationship between each station and its adjoining stations both ways\n",
    "\n",
    "connection.rollback()\n",
    "\n",
    "query = \"\"\"\n",
    "SELECT\n",
    "    l1.line as line,\n",
    "    l1.station as from_station,\n",
    "    l2.station as to_station,\n",
    "    tt.travel_time as travel_time_in_seconds\n",
    "FROM lines l1\n",
    "INNER JOIN lines l2\n",
    "ON l1.line = l2.line\n",
    "INNER JOIN travel_times tt\n",
    "ON (l1.station = tt.station_1 AND l2.station = tt.station_2) OR (l2.station = tt.station_1 AND l1.station = tt.station_2)\n",
    "WHERE l1.station != l2.station AND l1.sequence=(l2.sequence-1)\n",
    "ORDER BY l1.line, l1.station, l2.station\n",
    "\n",
    "\"\"\"\n",
    "\n",
    "cursor.execute(query)\n",
    "\n",
    "connection.rollback()\n",
    "\n",
    "rows = cursor.fetchall()\n",
    "\n",
    "print(rows)\n",
    "\n",
    "for row in rows:\n",
    "    from_ln_statn_nm = row[0]+' '+row[1]\n",
    "    to_ln_statn_nm = row[0]+' '+row[2]\n",
    "    my_neo4j_create_relationship_two_way(from_ln_statn_nm, to_ln_statn_nm, int(row[3]))"
   ]
  },
  {
   "cell_type": "code",
   "execution_count": 40,
   "id": "9f56d8b7",
   "metadata": {},
   "outputs": [
    {
     "name": "stdout",
     "output_type": "stream",
     "text": [
      "-------------------------\n",
      "  Nodes: 214\n",
      "  Relationships: 652\n",
      "-------------------------\n"
     ]
    }
   ],
   "source": [
    "## Verify\n",
    "\n",
    "my_neo4j_number_nodes_relationships()"
   ]
  }
 ],
 "metadata": {
  "kernelspec": {
   "display_name": "Python 3 (ipykernel)",
   "language": "python",
   "name": "python3"
  },
  "language_info": {
   "codemirror_mode": {
    "name": "ipython",
    "version": 3
   },
   "file_extension": ".py",
   "mimetype": "text/x-python",
   "name": "python",
   "nbconvert_exporter": "python",
   "pygments_lexer": "ipython3",
   "version": "3.9.7"
  }
 },
 "nbformat": 4,
 "nbformat_minor": 5
}
