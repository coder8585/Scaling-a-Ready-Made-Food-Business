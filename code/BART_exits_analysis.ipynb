{
 "cells": [
  {
   "cell_type": "code",
   "execution_count": 1,
   "id": "6bface9f",
   "metadata": {},
   "outputs": [],
   "source": [
    "import pandas as pd"
   ]
  },
  {
   "cell_type": "code",
   "execution_count": 19,
   "id": "6c750017",
   "metadata": {},
   "outputs": [
    {
     "name": "stdout",
     "output_type": "stream",
     "text": [
      "   station  daily_avg_exits\n",
      "0       EM     15419.941908\n",
      "1       MT     12869.176201\n",
      "2       PL     10523.686113\n",
      "3       CC      8061.563420\n",
      "4       16      5233.199640\n",
      "5       24      4991.962291\n",
      "6       BK      4721.532544\n",
      "7       12      4430.176834\n",
      "8       19      4150.297706\n",
      "9       DC      4041.902991\n",
      "10      BP      3627.059168\n",
      "11      FV      3531.926281\n",
      "12      EN      3470.357291\n",
      "13      MA      3355.709774\n",
      "14      SO      3237.432383\n",
      "15      OW      2970.181973\n",
      "16      SL      2946.803440\n",
      "17      GP      2912.709255\n",
      "18      LM      2721.179342\n",
      "19      ED      2636.708479\n",
      "20      WC      2376.543702\n",
      "21      BF      2328.221443\n",
      "22      CL      2322.952296\n",
      "23      CN      2271.349788\n",
      "24      RR      2115.852242\n",
      "25      PH      2108.357190\n",
      "26      RM      2085.122516\n",
      "27      HY      1998.042461\n",
      "28      EP      1883.425227\n",
      "29      MB      1822.823764\n",
      "30      FM      1812.234417\n",
      "31      AS      1782.557428\n",
      "32      WP      1720.332692\n",
      "33      AN      1674.168066\n",
      "34      UC      1650.597440\n",
      "35      NB      1590.701038\n",
      "36      CM      1387.696044\n",
      "37      LF      1351.867078\n",
      "38      SB      1301.280115\n",
      "39      SS      1266.172859\n",
      "40      SH      1253.190821\n",
      "41      BE      1186.754792\n",
      "42      WD      1136.336593\n",
      "43      WS      1104.964824\n",
      "44      CV      1077.812755\n",
      "45      OR      1060.708490\n",
      "46      ML      1008.304291\n",
      "47      OA       609.853277\n",
      "48      NC       560.489674\n",
      "49      PC       494.289973\n",
      "csv write down\n"
     ]
    }
   ],
   "source": [
    "columns = [       'RM',        'EN',        'EP',        'NB',        'BK',\n",
    "              'AS',        'MA',          19,          12,        'LM',\n",
    "              'FV',        'CL',        'SL',        'BF',        'HY',\n",
    "              'SH',        'UC',        'FM',        'CN',        'PH',\n",
    "              'WC',        'LF',        'OR',        'RR',        'OW',\n",
    "              'EM',        'MT',        'PL',        'CC',          16,\n",
    "                24,        'GP',        'BP',        'DC',        'CM',\n",
    "              'CV',        'ED',        'NC',        'WP',        'SS',\n",
    "              'SB',        'SO',        'MB',        'WD',        'OA',\n",
    "              'WS',        'ML',        'BE',        'PC',        'AN',\n",
    "       'yearmonth']\n",
    "df = pd.DataFrame (columns = columns)\n",
    "root_path = '/user/projects/project-3-emily-ravi-karen-peng/code/Ridership_2023'\n",
    "year = '2023'\n",
    "for m in range(1,13):\n",
    "    month = str(m).zfill(2)\n",
    "    df_m = pd.read_excel(f\"{root_path}/Ridership_{year}{month}.xlsx\", sheet_name=\"Avg Weekday OD\", header = 1)\n",
    "    df_m.set_index(df_m.columns[0], inplace=True)\n",
    "    df_m = df_m.iloc[:-1]\n",
    "    df_m = df_m[['Exits']]\n",
    "    df_m = df_m.T\n",
    "    df_m = df_m.reset_index().iloc[:,1:]\n",
    "    df_m.index.name = 'index'\n",
    "    df['yearmonth'] = f'{year}-{month}-01'\n",
    "\n",
    "    df = pd.concat([df,df_m], ignore_index = True)\n",
    "    \n",
    "df.set_index('yearmonth', inplace = True)\n",
    "# print(df)\n",
    "station_average = df.mean().sort_values(ascending=False).reset_index().rename(columns = {'index':'station',0:'daily_avg_exits'})\n",
    "print(station_average)\n",
    "station_average.to_csv('avg_exits.csv', index = False)\n",
    "\n",
    "print('csv write down')\n"
   ]
  },
  {
   "cell_type": "code",
   "execution_count": null,
   "id": "6cebac17",
   "metadata": {},
   "outputs": [],
   "source": []
  }
 ],
 "metadata": {
  "kernelspec": {
   "display_name": "Python 3 (ipykernel)",
   "language": "python",
   "name": "python3"
  },
  "language_info": {
   "codemirror_mode": {
    "name": "ipython",
    "version": 3
   },
   "file_extension": ".py",
   "mimetype": "text/x-python",
   "name": "python",
   "nbconvert_exporter": "python",
   "pygments_lexer": "ipython3",
   "version": "3.9.7"
  }
 },
 "nbformat": 4,
 "nbformat_minor": 5
}
